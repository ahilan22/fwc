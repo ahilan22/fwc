{
  "nbformat": 4,
  "nbformat_minor": 0,
  "metadata": {
    "colab": {
      "provenance": []
    },
    "kernelspec": {
      "name": "python3",
      "display_name": "Python 3"
    },
    "language_info": {
      "name": "python"
    }
  },
  "cells": [
    {
      "cell_type": "code",
      "execution_count": null,
      "metadata": {
        "id": "vfCylsjV3qZQ"
      },
      "outputs": [],
      "source": [
        "#input data samples\n",
        "import numpy\n",
        "data = numpy.loadtxt('input_samples_50k.txt')\n",
        "\n",
        "# Delay (lag) range that we are interesting in\n",
        "lags = range(10)"
      ]
    },
    {
      "cell_type": "markdown",
      "source": [
        "Python only implementation"
      ],
      "metadata": {
        "id": "sJCfV2Ad4CxS"
      }
    },
    {
      "cell_type": "code",
      "source": [
        "# Pre-allocate autocorrelation table\n",
        "acorr = len(lags) * [0]\n",
        "\n",
        "# Mean\n",
        "mean = sum(data) / len(data) \n",
        "\n",
        "# Variance\n",
        "var = sum([(x - mean)**2 for x in data]) / len(data) \n",
        "\n",
        "# Normalized data\n",
        "ndata = [x - mean for x in data]\n",
        "\n",
        "# Go through lag components one-by-one\n",
        "for l in lags:\n",
        "    c = 1 # Self correlation\n",
        "    \n",
        "    if (l > 0):\n",
        "        tmp = [ndata[l:][i] * ndata[:-l][i] \n",
        "               for i in range(len(data) - l)]\n",
        "        \n",
        "        c = sum(tmp) / len(data) / var\n",
        "        \n",
        "    acorr[l] = c"
      ],
      "metadata": {
        "id": "42gQOn124CAq"
      },
      "execution_count": null,
      "outputs": []
    },
    {
      "cell_type": "markdown",
      "source": [
        "Statsmodels"
      ],
      "metadata": {
        "id": "YL9momQc4Va3"
      }
    },
    {
      "cell_type": "code",
      "source": [
        "import statsmodels.api as sm\n",
        "acorr = sm.tsa.acf(data, nlags = len(lags)-1)"
      ],
      "metadata": {
        "id": "vcz4ONvZ4Wce"
      },
      "execution_count": null,
      "outputs": []
    },
    {
      "cell_type": "markdown",
      "source": [
        "numpy.correlate"
      ],
      "metadata": {
        "id": "8DLsdxBu4hps"
      }
    },
    {
      "cell_type": "code",
      "source": [
        "x = np.array(data) \n",
        "\n",
        "# Mean\n",
        "mean = np.mean(data)\n",
        "\n",
        "# Variance\n",
        "var = np.var(data)\n",
        "\n",
        "# Normalized data\n",
        "ndata = data - mean\n",
        "\n",
        "acorr = np.correlate(ndata, ndata, 'full')[len(ndata)-1:] \n",
        "acorr = acorr / var / len(ndata)"
      ],
      "metadata": {
        "id": "1FzyNqQi4aPJ"
      },
      "execution_count": null,
      "outputs": []
    },
    {
      "cell_type": "markdown",
      "source": [
        "Fourier transform implementation"
      ],
      "metadata": {
        "id": "6EiZRQGz5dQB"
      }
    },
    {
      "cell_type": "code",
      "source": [
        "# Nearest size with power of 2\n",
        "size = 2 ** np.ceil(np.log2(2*len(data) - 1)).astype('int')\n",
        "\n",
        "# Variance\n",
        "var = np.var(data)\n",
        "\n",
        "# Normalized data\n",
        "ndata = data - np.mean(data)\n",
        "\n",
        "# Compute the FFT\n",
        "fft = np.fft.fft(ndata, size)\n",
        "\n",
        "# Get the power spectrum\n",
        "pwr = np.abs(fft) ** 2\n",
        "\n",
        "# Calculate the autocorrelation from inverse FFT of the power spectrum\n",
        "acorr = np.fft.ifft(pwr).real / var / len(data)"
      ],
      "metadata": {
        "id": "tpLMNfok5VaT"
      },
      "execution_count": null,
      "outputs": []
    }
  ]
}